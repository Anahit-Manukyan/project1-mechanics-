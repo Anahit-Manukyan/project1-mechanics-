{
 "cells": [
  {
   "cell_type": "code",
   "execution_count": 62,
   "metadata": {},
   "outputs": [],
   "source": [
    "g = 10  #rounded \n",
    "\n",
    "mu1 = 0.09\n",
    "mu2 = 0.3\n",
    "mu3 = 0.4\n",
    "\n",
    "M1 = 10\n",
    "M2 = 5\n",
    "M3 = 3\n"
   ]
  },
  {
   "cell_type": "markdown",
   "metadata": {},
   "source": [
    "\n",
    "F1 - mu1 * Nox = mu1 * a1  \n",
    "T - mu2 * N2 = M2a2\n",
    "F1 = -M3 * a3x\n",
    "2 * f3 + T - mu3 * g\n",
    "T = Nox\n",
    "a3x = a1\n",
    "a3y = a1 - a2\n",
    "\n",
    "=>\n",
    "\n",
    "F1 - mu1*N1 - T = M1 * a1 \n",
    "T - mu2 * N2 = M2 * a2\n",
    "F1 = -M2a1\n",
    "2 * mu3 * F1T * T - M3g = M3 * (a1 - a2)\n",
    "N1 = M1g + N2\n",
    "N2 = M2g\n",
    "\n",
    "\n",
    "=>\n",
    "\n",
    "F1 - mu1 * g * (M1 + M2) - T = M1 * a1 \n",
    "T - mu2 * g * M2 = M2 * a2\n",
    "F1 = -M3 * a1\n",
    "2* mu3 * F1 + T - M3 * g = M3 * (a1 - a2)\n",
    "\n",
    "=> \n",
    "\n",
    "T = M2 * (mu2 * g + a2)\n",
    "F1 = -M3 * a1 \n",
    "M3 * (-a1) - mu2 * (mu2 * g + a2) = M1 * a1 + mu1*g* (mu1 + mu2)\n",
    "2*(-mu3)*M2*a1 + M2 * (mu2*g + a2) = M2*g + M2 * (a1 + a2)\n",
    "\n",
    "\n"
   ]
  },
  {
   "cell_type": "markdown",
   "metadata": {},
   "source": [
    "-M3*a1 - M2*a2 - M1*a1 = g * (M2*mu2 + M1*mu1 + M2*mu1)\n",
    "-2*mu3*a1 + mu2* a2 - M3*a1 + M3*a2 = g * (M3 - M2*mu2)\n",
    "\n",
    "=>\n",
    "\n",
    "(mu1 + M3) * (-a1) - M2*a2 = g * (M2*mu2 + M1* mu1 + M2*mu1)\n",
    "(2mu3* M3 + M3) * (-a1) + a2 * (M2 + M3) = g * (M3 - M2*mu2)"
   ]
  },
  {
   "cell_type": "code",
   "execution_count": 63,
   "metadata": {},
   "outputs": [],
   "source": [
    "import numpy as np\n",
    "import matplotlib.pyplot as plt"
   ]
  },
  {
   "cell_type": "code",
   "execution_count": 64,
   "metadata": {},
   "outputs": [],
   "source": [
    "# the equations are made using the previous cell- the solution of lineat equations \n",
    "A = np.array([[-(M1 + M3), -M2], [-(2*mu3*M3 + M3), M2 + M3]])\n",
    "b = np.array([[M2*mu2*g + M1*mu1*g + M2*mu1*g, M3*g - M2*mu2*g]])"
   ]
  },
  {
   "cell_type": "code",
   "execution_count": 65,
   "metadata": {},
   "outputs": [],
   "source": [
    "pos = np.array(positions)"
   ]
  },
  {
   "cell_type": "code",
   "execution_count": 74,
   "metadata": {},
   "outputs": [
    {
     "data": {
      "text/plain": [
       "Text(0.5, 1.0, 'M1')"
      ]
     },
     "execution_count": 74,
     "metadata": {},
     "output_type": "execute_result"
    },
    {
     "data": {
      "image/png": "[encoded data removed]",
      "text/plain": [
       "<Figure size 432x288 with 1 Axes>"
      ]
     },
     "metadata": {
      "needs_background": "light"
     },
     "output_type": "display_data"
    }
   ],
   "source": [
    "x1 = pos[:,1,:]\n",
    "x1_x = x1[:, 0]\n",
    "x1_y = x1[:, 1]\n",
    "\n",
    "plt.scatter(x1_x, x1_y)\n",
    "plt.title('M1')"
   ]
  },
  {
   "cell_type": "code",
   "execution_count": 75,
   "metadata": {},
   "outputs": [
    {
     "data": {
      "text/plain": [
       "Text(0.5, 1.0, 'M2')"
      ]
     },
     "execution_count": 75,
     "metadata": {},
     "output_type": "execute_result"
    },
    {
     "data": {
      "image/png": "[encoded data removed]",
      "text/plain": [
       "<Figure size 432x288 with 1 Axes>"
      ]
     },
     "metadata": {
      "needs_background": "light"
     },
     "output_type": "display_data"
    }
   ],
   "source": [
    "x1 = pos[:,1,:]\n",
    "x1_x = x1[:, 0]\n",
    "x1_y = x1[:, 1]\n",
    "\n",
    "plt.scatter(x1_x, x1_y)\n",
    "plt.title('M2')"
   ]
  },
  {
   "cell_type": "code",
   "execution_count": 76,
   "metadata": {},
   "outputs": [
    {
     "data": {
      "text/plain": [
       "Text(0.5, 1.0, 'M3')"
      ]
     },
     "execution_count": 76,
     "metadata": {},
     "output_type": "execute_result"
    },
    {
     "data": {
      "image/png": "[encoded data removed]",
      "text/plain": [
       "<Figure size 432x288 with 1 Axes>"
      ]
     },
     "metadata": {
      "needs_background": "light"
     },
     "output_type": "display_data"
    }
   ],
   "source": [
    "x1 = pos[:,2,:]\n",
    "x1_x = x1[:, 0]\n",
    "x1_y = x1[:, 1]\n",
    "\n",
    "plt.scatter(x1_x, x1_y)\n",
    "plt.title('M3')"
   ]
  }
 ],
 "metadata": {
  "kernelspec": {
   "display_name": "Python 3",
   "language": "python",
   "name": "python3"
  },
  "language_info": {
   "codemirror_mode": {
    "name": "ipython",
    "version": 3
   },
   "file_extension": ".py",
   "mimetype": "text/x-python",
   "name": "python",
   "nbconvert_exporter": "python",
   "pygments_lexer": "ipython3",
   "version": "3.7.4"
  }
 },
 "nbformat": 4,
 "nbformat_minor": 2
}
